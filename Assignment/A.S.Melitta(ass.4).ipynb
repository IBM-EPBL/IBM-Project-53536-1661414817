{
  "nbformat": 4,
  "nbformat_minor": 0,
  "metadata": {
    "colab": {
      "provenance": []
    },
    "kernelspec": {
      "name": "python3",
      "display_name": "Python 3"
    },
    "language_info": {
      "name": "python"
    },
    "accelerator": "GPU"
  },
  "cells": [
    {
      "cell_type": "code",
      "execution_count": 1,
      "metadata": {
        "id": "ziJ7XXdXemYK"
      },
      "outputs": [],
      "source": [
        "import pandas as pd\n",
        "import numpy as np\n",
        "import matplotlib.pyplot as plt\n",
        "import seaborn as sns"
      ]
    },
    {
      "cell_type": "markdown",
      "source": [
        "**2) LOAD DATASET**"
      ],
      "metadata": {
        "id": "Ed2nBrhO0a49"
      }
    },
    {
      "cell_type": "code",
      "source": [
        "f1=pd.read_csv(\"Mall_Customers.csv\")"
      ],
      "metadata": {
        "id": "-UmREsHd0SwH"
      },
      "execution_count": 2,
      "outputs": []
    },
    {
      "cell_type": "code",
      "source": [
        "f1.head()"
      ],
      "metadata": {
        "colab": {
          "base_uri": "https://localhost:8080/",
          "height": 206
        },
        "id": "7TXqRbkY0muA",
        "outputId": "61f6642c-73bf-4064-bbd4-08aeacb8b067"
      },
      "execution_count": 3,
      "outputs": [
        {
          "output_type": "execute_result",
          "data": {
            "text/plain": [
              "   CustomerID  Gender  Age  Annual Income (k$)  Spending Score (1-100)\n",
              "0           1    Male   19                  15                      39\n",
              "1           2    Male   21                  15                      81\n",
              "2           3  Female   20                  16                       6\n",
              "3           4  Female   23                  16                      77\n",
              "4           5  Female   31                  17                      40"
            ],
            "text/html": [
              "\n",
              "  <div id=\"df-fd505f03-e2bb-42bb-8410-a337e42068fa\">\n",
              "    <div class=\"colab-df-container\">\n",
              "      <div>\n",
              "<style scoped>\n",
              "    .dataframe tbody tr th:only-of-type {\n",
              "        vertical-align: middle;\n",
              "    }\n",
              "\n",
              "    .dataframe tbody tr th {\n",
              "        vertical-align: top;\n",
              "    }\n",
              "\n",
              "    .dataframe thead th {\n",
              "        text-align: right;\n",
              "    }\n",
              "</style>\n",
              "<table border=\"1\" class=\"dataframe\">\n",
              "  <thead>\n",
              "    <tr style=\"text-align: right;\">\n",
              "      <th></th>\n",
              "      <th>CustomerID</th>\n",
              "      <th>Gender</th>\n",
              "      <th>Age</th>\n",
              "      <th>Annual Income (k$)</th>\n",
              "      <th>Spending Score (1-100)</th>\n",
              "    </tr>\n",
              "  </thead>\n",
              "  <tbody>\n",
              "    <tr>\n",
              "      <th>0</th>\n",
              "      <td>1</td>\n",
              "      <td>Male</td>\n",
              "      <td>19</td>\n",
              "      <td>15</td>\n",
              "      <td>39</td>\n",
              "    </tr>\n",
              "    <tr>\n",
              "      <th>1</th>\n",
              "      <td>2</td>\n",
              "      <td>Male</td>\n",
              "      <td>21</td>\n",
              "      <td>15</td>\n",
              "      <td>81</td>\n",
              "    </tr>\n",
              "    <tr>\n",
              "      <th>2</th>\n",
              "      <td>3</td>\n",
              "      <td>Female</td>\n",
              "      <td>20</td>\n",
              "      <td>16</td>\n",
              "      <td>6</td>\n",
              "    </tr>\n",
              "    <tr>\n",
              "      <th>3</th>\n",
              "      <td>4</td>\n",
              "      <td>Female</td>\n",
              "      <td>23</td>\n",
              "      <td>16</td>\n",
              "      <td>77</td>\n",
              "    </tr>\n",
              "    <tr>\n",
              "      <th>4</th>\n",
              "      <td>5</td>\n",
              "      <td>Female</td>\n",
              "      <td>31</td>\n",
              "      <td>17</td>\n",
              "      <td>40</td>\n",
              "    </tr>\n",
              "  </tbody>\n",
              "</table>\n",
              "</div>\n",
              "      <button class=\"colab-df-convert\" onclick=\"convertToInteractive('df-fd505f03-e2bb-42bb-8410-a337e42068fa')\"\n",
              "              title=\"Convert this dataframe to an interactive table.\"\n",
              "              style=\"display:none;\">\n",
              "        \n",
              "  <svg xmlns=\"http://www.w3.org/2000/svg\" height=\"24px\"viewBox=\"0 0 24 24\"\n",
              "       width=\"24px\">\n",
              "    <path d=\"M0 0h24v24H0V0z\" fill=\"none\"/>\n",
              "    <path d=\"M18.56 5.44l.94 2.06.94-2.06 2.06-.94-2.06-.94-.94-2.06-.94 2.06-2.06.94zm-11 1L8.5 8.5l.94-2.06 2.06-.94-2.06-.94L8.5 2.5l-.94 2.06-2.06.94zm10 10l.94 2.06.94-2.06 2.06-.94-2.06-.94-.94-2.06-.94 2.06-2.06.94z\"/><path d=\"M17.41 7.96l-1.37-1.37c-.4-.4-.92-.59-1.43-.59-.52 0-1.04.2-1.43.59L10.3 9.45l-7.72 7.72c-.78.78-.78 2.05 0 2.83L4 21.41c.39.39.9.59 1.41.59.51 0 1.02-.2 1.41-.59l7.78-7.78 2.81-2.81c.8-.78.8-2.07 0-2.86zM5.41 20L4 18.59l7.72-7.72 1.47 1.35L5.41 20z\"/>\n",
              "  </svg>\n",
              "      </button>\n",
              "      \n",
              "  <style>\n",
              "    .colab-df-container {\n",
              "      display:flex;\n",
              "      flex-wrap:wrap;\n",
              "      gap: 12px;\n",
              "    }\n",
              "\n",
              "    .colab-df-convert {\n",
              "      background-color: #E8F0FE;\n",
              "      border: none;\n",
              "      border-radius: 50%;\n",
              "      cursor: pointer;\n",
              "      display: none;\n",
              "      fill: #1967D2;\n",
              "      height: 32px;\n",
              "      padding: 0 0 0 0;\n",
              "      width: 32px;\n",
              "    }\n",
              "\n",
              "    .colab-df-convert:hover {\n",
              "      background-color: #E2EBFA;\n",
              "      box-shadow: 0px 1px 2px rgba(60, 64, 67, 0.3), 0px 1px 3px 1px rgba(60, 64, 67, 0.15);\n",
              "      fill: #174EA6;\n",
              "    }\n",
              "\n",
              "    [theme=dark] .colab-df-convert {\n",
              "      background-color: #3B4455;\n",
              "      fill: #D2E3FC;\n",
              "    }\n",
              "\n",
              "    [theme=dark] .colab-df-convert:hover {\n",
              "      background-color: #434B5C;\n",
              "      box-shadow: 0px 1px 3px 1px rgba(0, 0, 0, 0.15);\n",
              "      filter: drop-shadow(0px 1px 2px rgba(0, 0, 0, 0.3));\n",
              "      fill: #FFFFFF;\n",
              "    }\n",
              "  </style>\n",
              "\n",
              "      <script>\n",
              "        const buttonEl =\n",
              "          document.querySelector('#df-fd505f03-e2bb-42bb-8410-a337e42068fa button.colab-df-convert');\n",
              "        buttonEl.style.display =\n",
              "          google.colab.kernel.accessAllowed ? 'block' : 'none';\n",
              "\n",
              "        async function convertToInteractive(key) {\n",
              "          const element = document.querySelector('#df-fd505f03-e2bb-42bb-8410-a337e42068fa');\n",
              "          const dataTable =\n",
              "            await google.colab.kernel.invokeFunction('convertToInteractive',\n",
              "                                                     [key], {});\n",
              "          if (!dataTable) return;\n",
              "\n",
              "          const docLinkHtml = 'Like what you see? Visit the ' +\n",
              "            '<a target=\"_blank\" href=https://colab.research.google.com/notebooks/data_table.ipynb>data table notebook</a>'\n",
              "            + ' to learn more about interactive tables.';\n",
              "          element.innerHTML = '';\n",
              "          dataTable['output_type'] = 'display_data';\n",
              "          await google.colab.output.renderOutput(dataTable, element);\n",
              "          const docLink = document.createElement('div');\n",
              "          docLink.innerHTML = docLinkHtml;\n",
              "          element.appendChild(docLink);\n",
              "        }\n",
              "      </script>\n",
              "    </div>\n",
              "  </div>\n",
              "  "
            ]
          },
          "metadata": {},
          "execution_count": 3
        }
      ]
    },
    {
      "cell_type": "code",
      "source": [
        "f1.columns"
      ],
      "metadata": {
        "colab": {
          "base_uri": "https://localhost:8080/"
        },
        "id": "R6GvwiCi0oQq",
        "outputId": "5dab88e8-1ce4-4586-b49e-3009495649d5"
      },
      "execution_count": 4,
      "outputs": [
        {
          "output_type": "execute_result",
          "data": {
            "text/plain": [
              "Index(['CustomerID', 'Gender', 'Age', 'Annual Income (k$)',\n",
              "       'Spending Score (1-100)'],\n",
              "      dtype='object')"
            ]
          },
          "metadata": {},
          "execution_count": 4
        }
      ]
    },
    {
      "cell_type": "markdown",
      "source": [
        "**3) PERFORM VISUALIZATIONS**"
      ],
      "metadata": {
        "id": "ASXtYGJR0rsl"
      }
    },
    {
      "cell_type": "markdown",
      "source": [
        "**3.1 UNIVARIATE ANALYSIS**"
      ],
      "metadata": {
        "id": "XGyeqWDH0vly"
      }
    },
    {
      "cell_type": "code",
      "source": [
        "#pie chart\n",
        "data1=f1.groupby(\"Gender\",axis=0)\n",
        "plt.pie(data1.count()[\"Age\"], labels=data1.indices) \n",
        "plt.show()"
      ],
      "metadata": {
        "colab": {
          "base_uri": "https://localhost:8080/",
          "height": 248
        },
        "id": "ODPXrULj0y_I",
        "outputId": "a4c047a6-a980-49e0-e71b-71ae01e21137"
      },
      "execution_count": 5,
      "outputs": [
        {
          "output_type": "display_data",
          "data": {
            "text/plain": [
              "<Figure size 432x288 with 1 Axes>"
            ],
            "image/png": "[encoded data removed]"
          },
          "metadata": {}
        }
      ]
    },
    {
      "cell_type": "code",
      "source": [
        "#boxplot\n",
        "plt.boxplot(f1[\"Age\"])\n",
        "plt.show()"
      ],
      "metadata": {
        "colab": {
          "base_uri": "https://localhost:8080/",
          "height": 265
        },
        "id": "o3YBIvOw06uf",
        "outputId": "e190291e-3bfb-4a05-b09e-7d4ddcec45c0"
      },
      "execution_count": 6,
      "outputs": [
        {
          "output_type": "display_data",
          "data": {
            "text/plain": [
              "<Figure size 432x288 with 1 Axes>"
            ],
            "image/png": "[encoded data removed]"
          },
          "metadata": {
            "needs_background": "light"
          }
        }
      ]
    },
    {
      "cell_type": "code",
      "source": [
        "#boxplot\n",
        "plt.boxplot(f1[\"Annual Income (k$)\"])\n",
        "plt.show()"
      ],
      "metadata": {
        "colab": {
          "base_uri": "https://localhost:8080/",
          "height": 265
        },
        "id": "QkWmi7re1B5Q",
        "outputId": "52301a3f-a1ef-484c-bd92-20432334be7a"
      },
      "execution_count": 7,
      "outputs": [
        {
          "output_type": "display_data",
          "data": {
            "text/plain": [
              "<Figure size 432x288 with 1 Axes>"
            ],
            "image/png": "[encoded data removed]"
          },
          "metadata": {
            "needs_background": "light"
          }
        }
      ]
    },
    {
      "cell_type": "code",
      "source": [
        "#countplot\n",
        "sns.countplot(x=f1[\"Annual Income (k$)\"])\n",
        "plt.show()"
      ],
      "metadata": {
        "colab": {
          "base_uri": "https://localhost:8080/",
          "height": 279
        },
        "id": "W1bS4jSY1MT6",
        "outputId": "9b9166bc-8fbd-4a20-9969-24cec0074d77"
      },
      "execution_count": 11,
      "outputs": [
        {
          "output_type": "display_data",
          "data": {
            "text/plain": [
              "<Figure size 432x288 with 1 Axes>"
            ],
            "image/png": "[encoded data removed]"
          },
          "metadata": {
            "needs_background": "light"
          }
        }
      ]
    },
    {
      "cell_type": "code",
      "source": [
        "#countplot\n",
        "sns.countplot(x=f1[\"Age\"])\n",
        "plt.show()"
      ],
      "metadata": {
        "colab": {
          "base_uri": "https://localhost:8080/",
          "height": 279
        },
        "id": "a3Mn-ek21jSu",
        "outputId": "92ab4474-6a22-4281-e0d1-b766f902c907"
      },
      "execution_count": 12,
      "outputs": [
        {
          "output_type": "display_data",
          "data": {
            "text/plain": [
              "<Figure size 432x288 with 1 Axes>"
            ],
            "image/png": "[encoded data removed]"
          },
          "metadata": {
            "needs_background": "light"
          }
        }
      ]
    },
    {
      "cell_type": "code",
      "source": [
        "#histplot\n",
        "sns.histplot(f1[\"Age\"])\n",
        "plt.show()"
      ],
      "metadata": {
        "colab": {
          "base_uri": "https://localhost:8080/",
          "height": 279
        },
        "id": "FWd3XwzV1nWX",
        "outputId": "738aa4f0-713c-4cfb-fef8-f1a2f4291f09"
      },
      "execution_count": 13,
      "outputs": [
        {
          "output_type": "display_data",
          "data": {
            "text/plain": [
              "<Figure size 432x288 with 1 Axes>"
            ],
            "image/png": "[encoded data removed]"
          },
          "metadata": {
            "needs_background": "light"
          }
        }
      ]
    },
    {
      "cell_type": "code",
      "source": [
        "#histplot\n",
        "sns.histplot(f1[\"Spending Score (1-100)\"])\n",
        "plt.show()"
      ],
      "metadata": {
        "colab": {
          "base_uri": "https://localhost:8080/",
          "height": 279
        },
        "id": "JXSd64Sw1suI",
        "outputId": "aa0b3c3d-5e5b-4742-a3d4-635fac4d3672"
      },
      "execution_count": 14,
      "outputs": [
        {
          "output_type": "display_data",
          "data": {
            "text/plain": [
              "<Figure size 432x288 with 1 Axes>"
            ],
            "image/png": "[encoded data removed]"
          },
          "metadata": {
            "needs_background": "light"
          }
        }
      ]
    },
    {
      "cell_type": "markdown",
      "source": [
        "**3.2 BI-VARIATE ANALYSIS**"
      ],
      "metadata": {
        "id": "HUbZxNKK7Xti"
      }
    },
    {
      "cell_type": "code",
      "source": [
        "#pairplot\n",
        "sns.pairplot(f1)\n",
        "plt.show()"
      ],
      "metadata": {
        "colab": {
          "base_uri": "https://localhost:8080/",
          "height": 726
        },
        "id": "zdJjhwIF7T-2",
        "outputId": "ce5b0fe8-49ed-4c6f-d501-7aa8801b6c8a"
      },
      "execution_count": 15,
      "outputs": [
        {
          "output_type": "display_data",
          "data": {
            "text/plain": [
              "<Figure size 720x720 with 20 Axes>"
            ],
            "image/png": "[encoded data removed]"
          },
          "metadata": {
            "needs_background": "light"
          }
        }
      ]
    },
    {
      "cell_type": "code",
      "source": [
        "#scatterplot for Age and Annual Income (k$)\n",
        "sns.scatterplot(x=f1.iloc[:100,:][\"Age\"],y=f1.iloc[:100,:][\"Annual Income (k$)\"])\n",
        "plt.show()"
      ],
      "metadata": {
        "colab": {
          "base_uri": "https://localhost:8080/",
          "height": 279
        },
        "id": "56YaHumT7eiD",
        "outputId": "05e4fddd-e7ae-49a7-c2f5-3e04e73319a4"
      },
      "execution_count": 17,
      "outputs": [
        {
          "output_type": "display_data",
          "data": {
            "text/plain": [
              "<Figure size 432x288 with 1 Axes>"
            ],
            "image/png": "[encoded data removed]"
          },
          "metadata": {
            "needs_background": "light"
          }
        }
      ]
    },
    {
      "cell_type": "code",
      "source": [
        "#scatterplot for Age and Spending Score (1-100)\n",
        "sns.scatterplot(x=f1.iloc[:100,:][\"Age\"],y=f1.iloc[:100,:][\"Spending Score (1-100)\"])\n",
        "plt.show()"
      ],
      "metadata": {
        "colab": {
          "base_uri": "https://localhost:8080/",
          "height": 279
        },
        "id": "DaXT1nWv7tQW",
        "outputId": "f774059c-ee84-472f-d451-d057b9dd5997"
      },
      "execution_count": 18,
      "outputs": [
        {
          "output_type": "display_data",
          "data": {
            "text/plain": [
              "<Figure size 432x288 with 1 Axes>"
            ],
            "image/png": "[encoded data removed]"
          },
          "metadata": {
            "needs_background": "light"
          }
        }
      ]
    },
    {
      "cell_type": "markdown",
      "source": [
        "**3.3 MULTI-VARIATE ANALYSIS**"
      ],
      "metadata": {
        "id": "nfusYPGb7zpT"
      }
    },
    {
      "cell_type": "code",
      "source": [
        "#scatterplot for Age, Annual Income (k$) and Spending Score (1-100)\n",
        "sns.scatterplot(x=f1.iloc[:200,:][\"Age\"],y=f1.iloc[:200,:][\"Annual Income (k$)\"],hue=f1.iloc[:200,:][\"Spending Score (1-100)\"])\n",
        "plt.show()"
      ],
      "metadata": {
        "colab": {
          "base_uri": "https://localhost:8080/",
          "height": 279
        },
        "id": "Hyjz5Ty473RC",
        "outputId": "97458e34-4f5d-440f-c761-c245fc3a36df"
      },
      "execution_count": 19,
      "outputs": [
        {
          "output_type": "display_data",
          "data": {
            "text/plain": [
              "<Figure size 432x288 with 1 Axes>"
            ],
            "image/png": "[encoded data removed]"
          },
          "metadata": {
            "needs_background": "light"
          }
        }
      ]
    },
    {
      "cell_type": "markdown",
      "source": [
        "**4) PERFORM DESCRIPTIVE STATISTICS ON THE DATASET**"
      ],
      "metadata": {
        "id": "eRr1S31G8MHT"
      }
    },
    {
      "cell_type": "code",
      "source": [
        "f1.describe()"
      ],
      "metadata": {
        "colab": {
          "base_uri": "https://localhost:8080/",
          "height": 300
        },
        "id": "g-1vop-08HrP",
        "outputId": "d24769fc-c741-4b50-e905-a2c34729073b"
      },
      "execution_count": 20,
      "outputs": [
        {
          "output_type": "execute_result",
          "data": {
            "text/plain": [
              "       CustomerID         Age  Annual Income (k$)  Spending Score (1-100)\n",
              "count  200.000000  200.000000          200.000000              200.000000\n",
              "mean   100.500000   38.850000           60.560000               50.200000\n",
              "std     57.879185   13.969007           26.264721               25.823522\n",
              "min      1.000000   18.000000           15.000000                1.000000\n",
              "25%     50.750000   28.750000           41.500000               34.750000\n",
              "50%    100.500000   36.000000           61.500000               50.000000\n",
              "75%    150.250000   49.000000           78.000000               73.000000\n",
              "max    200.000000   70.000000          137.000000               99.000000"
            ],
            "text/html": [
              "\n",
              "  <div id=\"df-916d0716-b968-43f1-a154-f5324f09fa3b\">\n",
              "    <div class=\"colab-df-container\">\n",
              "      <div>\n",
              "<style scoped>\n",
              "    .dataframe tbody tr th:only-of-type {\n",
              "        vertical-align: middle;\n",
              "    }\n",
              "\n",
              "    .dataframe tbody tr th {\n",
              "        vertical-align: top;\n",
              "    }\n",
              "\n",
              "    .dataframe thead th {\n",
              "        text-align: right;\n",
              "    }\n",
              "</style>\n",
              "<table border=\"1\" class=\"dataframe\">\n",
              "  <thead>\n",
              "    <tr style=\"text-align: right;\">\n",
              "      <th></th>\n",
              "      <th>CustomerID</th>\n",
              "      <th>Age</th>\n",
              "      <th>Annual Income (k$)</th>\n",
              "      <th>Spending Score (1-100)</th>\n",
              "    </tr>\n",
              "  </thead>\n",
              "  <tbody>\n",
              "    <tr>\n",
              "      <th>count</th>\n",
              "      <td>200.000000</td>\n",
              "      <td>200.000000</td>\n",
              "      <td>200.000000</td>\n",
              "      <td>200.000000</td>\n",
              "    </tr>\n",
              "    <tr>\n",
              "      <th>mean</th>\n",
              "      <td>100.500000</td>\n",
              "      <td>38.850000</td>\n",
              "      <td>60.560000</td>\n",
              "      <td>50.200000</td>\n",
              "    </tr>\n",
              "    <tr>\n",
              "      <th>std</th>\n",
              "      <td>57.879185</td>\n",
              "      <td>13.969007</td>\n",
              "      <td>26.264721</td>\n",
              "      <td>25.823522</td>\n",
              "    </tr>\n",
              "    <tr>\n",
              "      <th>min</th>\n",
              "      <td>1.000000</td>\n",
              "      <td>18.000000</td>\n",
              "      <td>15.000000</td>\n",
              "      <td>1.000000</td>\n",
              "    </tr>\n",
              "    <tr>\n",
              "      <th>25%</th>\n",
              "      <td>50.750000</td>\n",
              "      <td>28.750000</td>\n",
              "      <td>41.500000</td>\n",
              "      <td>34.750000</td>\n",
              "    </tr>\n",
              "    <tr>\n",
              "      <th>50%</th>\n",
              "      <td>100.500000</td>\n",
              "      <td>36.000000</td>\n",
              "      <td>61.500000</td>\n",
              "      <td>50.000000</td>\n",
              "    </tr>\n",
              "    <tr>\n",
              "      <th>75%</th>\n",
              "      <td>150.250000</td>\n",
              "      <td>49.000000</td>\n",
              "      <td>78.000000</td>\n",
              "      <td>73.000000</td>\n",
              "    </tr>\n",
              "    <tr>\n",
              "      <th>max</th>\n",
              "      <td>200.000000</td>\n",
              "      <td>70.000000</td>\n",
              "      <td>137.000000</td>\n",
              "      <td>99.000000</td>\n",
              "    </tr>\n",
              "  </tbody>\n",
              "</table>\n",
              "</div>\n",
              "      <button class=\"colab-df-convert\" onclick=\"convertToInteractive('df-916d0716-b968-43f1-a154-f5324f09fa3b')\"\n",
              "              title=\"Convert this dataframe to an interactive table.\"\n",
              "              style=\"display:none;\">\n",
              "        \n",
              "  <svg xmlns=\"http://www.w3.org/2000/svg\" height=\"24px\"viewBox=\"0 0 24 24\"\n",
              "       width=\"24px\">\n",
              "    <path d=\"M0 0h24v24H0V0z\" fill=\"none\"/>\n",
              "    <path d=\"M18.56 5.44l.94 2.06.94-2.06 2.06-.94-2.06-.94-.94-2.06-.94 2.06-2.06.94zm-11 1L8.5 8.5l.94-2.06 2.06-.94-2.06-.94L8.5 2.5l-.94 2.06-2.06.94zm10 10l.94 2.06.94-2.06 2.06-.94-2.06-.94-.94-2.06-.94 2.06-2.06.94z\"/><path d=\"M17.41 7.96l-1.37-1.37c-.4-.4-.92-.59-1.43-.59-.52 0-1.04.2-1.43.59L10.3 9.45l-7.72 7.72c-.78.78-.78 2.05 0 2.83L4 21.41c.39.39.9.59 1.41.59.51 0 1.02-.2 1.41-.59l7.78-7.78 2.81-2.81c.8-.78.8-2.07 0-2.86zM5.41 20L4 18.59l7.72-7.72 1.47 1.35L5.41 20z\"/>\n",
              "  </svg>\n",
              "      </button>\n",
              "      \n",
              "  <style>\n",
              "    .colab-df-container {\n",
              "      display:flex;\n",
              "      flex-wrap:wrap;\n",
              "      gap: 12px;\n",
              "    }\n",
              "\n",
              "    .colab-df-convert {\n",
              "      background-color: #E8F0FE;\n",
              "      border: none;\n",
              "      border-radius: 50%;\n",
              "      cursor: pointer;\n",
              "      display: none;\n",
              "      fill: #1967D2;\n",
              "      height: 32px;\n",
              "      padding: 0 0 0 0;\n",
              "      width: 32px;\n",
              "    }\n",
              "\n",
              "    .colab-df-convert:hover {\n",
              "      background-color: #E2EBFA;\n",
              "      box-shadow: 0px 1px 2px rgba(60, 64, 67, 0.3), 0px 1px 3px 1px rgba(60, 64, 67, 0.15);\n",
              "      fill: #174EA6;\n",
              "    }\n",
              "\n",
              "    [theme=dark] .colab-df-convert {\n",
              "      background-color: #3B4455;\n",
              "      fill: #D2E3FC;\n",
              "    }\n",
              "\n",
              "    [theme=dark] .colab-df-convert:hover {\n",
              "      background-color: #434B5C;\n",
              "      box-shadow: 0px 1px 3px 1px rgba(0, 0, 0, 0.15);\n",
              "      filter: drop-shadow(0px 1px 2px rgba(0, 0, 0, 0.3));\n",
              "      fill: #FFFFFF;\n",
              "    }\n",
              "  </style>\n",
              "\n",
              "      <script>\n",
              "        const buttonEl =\n",
              "          document.querySelector('#df-916d0716-b968-43f1-a154-f5324f09fa3b button.colab-df-convert');\n",
              "        buttonEl.style.display =\n",
              "          google.colab.kernel.accessAllowed ? 'block' : 'none';\n",
              "\n",
              "        async function convertToInteractive(key) {\n",
              "          const element = document.querySelector('#df-916d0716-b968-43f1-a154-f5324f09fa3b');\n",
              "          const dataTable =\n",
              "            await google.colab.kernel.invokeFunction('convertToInteractive',\n",
              "                                                     [key], {});\n",
              "          if (!dataTable) return;\n",
              "\n",
              "          const docLinkHtml = 'Like what you see? Visit the ' +\n",
              "            '<a target=\"_blank\" href=https://colab.research.google.com/notebooks/data_table.ipynb>data table notebook</a>'\n",
              "            + ' to learn more about interactive tables.';\n",
              "          element.innerHTML = '';\n",
              "          dataTable['output_type'] = 'display_data';\n",
              "          await google.colab.output.renderOutput(dataTable, element);\n",
              "          const docLink = document.createElement('div');\n",
              "          docLink.innerHTML = docLinkHtml;\n",
              "          element.appendChild(docLink);\n",
              "        }\n",
              "      </script>\n",
              "    </div>\n",
              "  </div>\n",
              "  "
            ]
          },
          "metadata": {},
          "execution_count": 20
        }
      ]
    },
    {
      "cell_type": "code",
      "source": [
        "f1.mode(numeric_only=True)"
      ],
      "metadata": {
        "colab": {
          "base_uri": "https://localhost:8080/",
          "height": 424
        },
        "id": "Y3NM8rGn8PRV",
        "outputId": "88777632-6089-4091-c10a-649965304a48"
      },
      "execution_count": 21,
      "outputs": [
        {
          "output_type": "execute_result",
          "data": {
            "text/plain": [
              "     CustomerID   Age  Annual Income (k$)  Spending Score (1-100)\n",
              "0             1  32.0                54.0                    42.0\n",
              "1             2   NaN                78.0                     NaN\n",
              "2             3   NaN                 NaN                     NaN\n",
              "3             4   NaN                 NaN                     NaN\n",
              "4             5   NaN                 NaN                     NaN\n",
              "..          ...   ...                 ...                     ...\n",
              "195         196   NaN                 NaN                     NaN\n",
              "196         197   NaN                 NaN                     NaN\n",
              "197         198   NaN                 NaN                     NaN\n",
              "198         199   NaN                 NaN                     NaN\n",
              "199         200   NaN                 NaN                     NaN\n",
              "\n",
              "[200 rows x 4 columns]"
            ],
            "text/html": [
              "\n",
              "  <div id=\"df-f634875b-3ad3-44b0-9112-71b748fc5d75\">\n",
              "    <div class=\"colab-df-container\">\n",
              "      <div>\n",
              "<style scoped>\n",
              "    .dataframe tbody tr th:only-of-type {\n",
              "        vertical-align: middle;\n",
              "    }\n",
              "\n",
              "    .dataframe tbody tr th {\n",
              "        vertical-align: top;\n",
              "    }\n",
              "\n",
              "    .dataframe thead th {\n",
              "        text-align: right;\n",
              "    }\n",
              "</style>\n",
              "<table border=\"1\" class=\"dataframe\">\n",
              "  <thead>\n",
              "    <tr style=\"text-align: right;\">\n",
              "      <th></th>\n",
              "      <th>CustomerID</th>\n",
              "      <th>Age</th>\n",
              "      <th>Annual Income (k$)</th>\n",
              "      <th>Spending Score (1-100)</th>\n",
              "    </tr>\n",
              "  </thead>\n",
              "  <tbody>\n",
              "    <tr>\n",
              "      <th>0</th>\n",
              "      <td>1</td>\n",
              "      <td>32.0</td>\n",
              "      <td>54.0</td>\n",
              "      <td>42.0</td>\n",
              "    </tr>\n",
              "    <tr>\n",
              "      <th>1</th>\n",
              "      <td>2</td>\n",
              "      <td>NaN</td>\n",
              "      <td>78.0</td>\n",
              "      <td>NaN</td>\n",
              "    </tr>\n",
              "    <tr>\n",
              "      <th>2</th>\n",
              "      <td>3</td>\n",
              "      <td>NaN</td>\n",
              "      <td>NaN</td>\n",
              "      <td>NaN</td>\n",
              "    </tr>\n",
              "    <tr>\n",
              "      <th>3</th>\n",
              "      <td>4</td>\n",
              "      <td>NaN</td>\n",
              "      <td>NaN</td>\n",
              "      <td>NaN</td>\n",
              "    </tr>\n",
              "    <tr>\n",
              "      <th>4</th>\n",
              "      <td>5</td>\n",
              "      <td>NaN</td>\n",
              "      <td>NaN</td>\n",
              "      <td>NaN</td>\n",
              "    </tr>\n",
              "    <tr>\n",
              "      <th>...</th>\n",
              "      <td>...</td>\n",
              "      <td>...</td>\n",
              "      <td>...</td>\n",
              "      <td>...</td>\n",
              "    </tr>\n",
              "    <tr>\n",
              "      <th>195</th>\n",
              "      <td>196</td>\n",
              "      <td>NaN</td>\n",
              "      <td>NaN</td>\n",
              "      <td>NaN</td>\n",
              "    </tr>\n",
              "    <tr>\n",
              "      <th>196</th>\n",
              "      <td>197</td>\n",
              "      <td>NaN</td>\n",
              "      <td>NaN</td>\n",
              "      <td>NaN</td>\n",
              "    </tr>\n",
              "    <tr>\n",
              "      <th>197</th>\n",
              "      <td>198</td>\n",
              "      <td>NaN</td>\n",
              "      <td>NaN</td>\n",
              "      <td>NaN</td>\n",
              "    </tr>\n",
              "    <tr>\n",
              "      <th>198</th>\n",
              "      <td>199</td>\n",
              "      <td>NaN</td>\n",
              "      <td>NaN</td>\n",
              "      <td>NaN</td>\n",
              "    </tr>\n",
              "    <tr>\n",
              "      <th>199</th>\n",
              "      <td>200</td>\n",
              "      <td>NaN</td>\n",
              "      <td>NaN</td>\n",
              "      <td>NaN</td>\n",
              "    </tr>\n",
              "  </tbody>\n",
              "</table>\n",
              "<p>200 rows × 4 columns</p>\n",
              "</div>\n",
              "      <button class=\"colab-df-convert\" onclick=\"convertToInteractive('df-f634875b-3ad3-44b0-9112-71b748fc5d75')\"\n",
              "              title=\"Convert this dataframe to an interactive table.\"\n",
              "              style=\"display:none;\">\n",
              "        \n",
              "  <svg xmlns=\"http://www.w3.org/2000/svg\" height=\"24px\"viewBox=\"0 0 24 24\"\n",
              "       width=\"24px\">\n",
              "    <path d=\"M0 0h24v24H0V0z\" fill=\"none\"/>\n",
              "    <path d=\"M18.56 5.44l.94 2.06.94-2.06 2.06-.94-2.06-.94-.94-2.06-.94 2.06-2.06.94zm-11 1L8.5 8.5l.94-2.06 2.06-.94-2.06-.94L8.5 2.5l-.94 2.06-2.06.94zm10 10l.94 2.06.94-2.06 2.06-.94-2.06-.94-.94-2.06-.94 2.06-2.06.94z\"/><path d=\"M17.41 7.96l-1.37-1.37c-.4-.4-.92-.59-1.43-.59-.52 0-1.04.2-1.43.59L10.3 9.45l-7.72 7.72c-.78.78-.78 2.05 0 2.83L4 21.41c.39.39.9.59 1.41.59.51 0 1.02-.2 1.41-.59l7.78-7.78 2.81-2.81c.8-.78.8-2.07 0-2.86zM5.41 20L4 18.59l7.72-7.72 1.47 1.35L5.41 20z\"/>\n",
              "  </svg>\n",
              "      </button>\n",
              "      \n",
              "  <style>\n",
              "    .colab-df-container {\n",
              "      display:flex;\n",
              "      flex-wrap:wrap;\n",
              "      gap: 12px;\n",
              "    }\n",
              "\n",
              "    .colab-df-convert {\n",
              "      background-color: #E8F0FE;\n",
              "      border: none;\n",
              "      border-radius: 50%;\n",
              "      cursor: pointer;\n",
              "      display: none;\n",
              "      fill: #1967D2;\n",
              "      height: 32px;\n",
              "      padding: 0 0 0 0;\n",
              "      width: 32px;\n",
              "    }\n",
              "\n",
              "    .colab-df-convert:hover {\n",
              "      background-color: #E2EBFA;\n",
              "      box-shadow: 0px 1px 2px rgba(60, 64, 67, 0.3), 0px 1px 3px 1px rgba(60, 64, 67, 0.15);\n",
              "      fill: #174EA6;\n",
              "    }\n",
              "\n",
              "    [theme=dark] .colab-df-convert {\n",
              "      background-color: #3B4455;\n",
              "      fill: #D2E3FC;\n",
              "    }\n",
              "\n",
              "    [theme=dark] .colab-df-convert:hover {\n",
              "      background-color: #434B5C;\n",
              "      box-shadow: 0px 1px 3px 1px rgba(0, 0, 0, 0.15);\n",
              "      filter: drop-shadow(0px 1px 2px rgba(0, 0, 0, 0.3));\n",
              "      fill: #FFFFFF;\n",
              "    }\n",
              "  </style>\n",
              "\n",
              "      <script>\n",
              "        const buttonEl =\n",
              "          document.querySelector('#df-f634875b-3ad3-44b0-9112-71b748fc5d75 button.colab-df-convert');\n",
              "        buttonEl.style.display =\n",
              "          google.colab.kernel.accessAllowed ? 'block' : 'none';\n",
              "\n",
              "        async function convertToInteractive(key) {\n",
              "          const element = document.querySelector('#df-f634875b-3ad3-44b0-9112-71b748fc5d75');\n",
              "          const dataTable =\n",
              "            await google.colab.kernel.invokeFunction('convertToInteractive',\n",
              "                                                     [key], {});\n",
              "          if (!dataTable) return;\n",
              "\n",
              "          const docLinkHtml = 'Like what you see? Visit the ' +\n",
              "            '<a target=\"_blank\" href=https://colab.research.google.com/notebooks/data_table.ipynb>data table notebook</a>'\n",
              "            + ' to learn more about interactive tables.';\n",
              "          element.innerHTML = '';\n",
              "          dataTable['output_type'] = 'display_data';\n",
              "          await google.colab.output.renderOutput(dataTable, element);\n",
              "          const docLink = document.createElement('div');\n",
              "          docLink.innerHTML = docLinkHtml;\n",
              "          element.appendChild(docLink);\n",
              "        }\n",
              "      </script>\n",
              "    </div>\n",
              "  </div>\n",
              "  "
            ]
          },
          "metadata": {},
          "execution_count": 21
        }
      ]
    },
    {
      "cell_type": "code",
      "source": [
        "f1.median(numeric_only=True)"
      ],
      "metadata": {
        "colab": {
          "base_uri": "https://localhost:8080/"
        },
        "id": "b8c3-GqM8RKb",
        "outputId": "965b5b62-bb80-49ee-9eec-70434812ec94"
      },
      "execution_count": 22,
      "outputs": [
        {
          "output_type": "execute_result",
          "data": {
            "text/plain": [
              "CustomerID                100.5\n",
              "Age                        36.0\n",
              "Annual Income (k$)         61.5\n",
              "Spending Score (1-100)     50.0\n",
              "dtype: float64"
            ]
          },
          "metadata": {},
          "execution_count": 22
        }
      ]
    },
    {
      "cell_type": "code",
      "source": [
        "f1.skew(numeric_only=True)"
      ],
      "metadata": {
        "colab": {
          "base_uri": "https://localhost:8080/"
        },
        "id": "ncb5pr2w8Uft",
        "outputId": "9461076c-c7aa-41d6-d8c8-b15692318ef1"
      },
      "execution_count": 23,
      "outputs": [
        {
          "output_type": "execute_result",
          "data": {
            "text/plain": [
              "CustomerID                0.000000\n",
              "Age                       0.485569\n",
              "Annual Income (k$)        0.321843\n",
              "Spending Score (1-100)   -0.047220\n",
              "dtype: float64"
            ]
          },
          "metadata": {},
          "execution_count": 23
        }
      ]
    },
    {
      "cell_type": "code",
      "source": [
        "f1.kurt(numeric_only=True)"
      ],
      "metadata": {
        "colab": {
          "base_uri": "https://localhost:8080/"
        },
        "id": "hJ4oSU_Y8VXh",
        "outputId": "9d7f3b4d-04c6-4af6-ebfe-179cb79f6b6f"
      },
      "execution_count": 24,
      "outputs": [
        {
          "output_type": "execute_result",
          "data": {
            "text/plain": [
              "CustomerID               -1.200000\n",
              "Age                      -0.671573\n",
              "Annual Income (k$)       -0.098487\n",
              "Spending Score (1-100)   -0.826629\n",
              "dtype: float64"
            ]
          },
          "metadata": {},
          "execution_count": 24
        }
      ]
    },
    {
      "cell_type": "markdown",
      "source": [
        "**5) HANDLE MISSING VALUES**"
      ],
      "metadata": {
        "id": "Avn_uXjg8Z79"
      }
    },
    {
      "cell_type": "code",
      "source": [
        "#find the null columns\n",
        "f1.isnull().sum()"
      ],
      "metadata": {
        "colab": {
          "base_uri": "https://localhost:8080/"
        },
        "id": "Gwev3KX98XrV",
        "outputId": "cb5c0cc6-5a38-4999-e2e6-4f933d06ed31"
      },
      "execution_count": 25,
      "outputs": [
        {
          "output_type": "execute_result",
          "data": {
            "text/plain": [
              "CustomerID                0\n",
              "Gender                    0\n",
              "Age                       0\n",
              "Annual Income (k$)        0\n",
              "Spending Score (1-100)    0\n",
              "dtype: int64"
            ]
          },
          "metadata": {},
          "execution_count": 25
        }
      ]
    },
    {
      "cell_type": "markdown",
      "source": [
        "**6) FIND THE OUTLIERS AND REPLACE THE OUTLIERS**"
      ],
      "metadata": {
        "id": "btLSF7uC8kCp"
      }
    },
    {
      "cell_type": "code",
      "source": [
        "#find outliers-Annual Income (k$)\n",
        "plt.boxplot(f1[\"Annual Income (k$)\"])\n",
        "plt.show()"
      ],
      "metadata": {
        "colab": {
          "base_uri": "https://localhost:8080/",
          "height": 265
        },
        "id": "MxjPAjnO8fF-",
        "outputId": "d93deae4-5f89-411e-db79-596afc74581b"
      },
      "execution_count": 36,
      "outputs": [
        {
          "output_type": "display_data",
          "data": {
            "text/plain": [
              "<Figure size 432x288 with 1 Axes>"
            ],
            "image/png": "[encoded data removed]"
          },
          "metadata": {
            "needs_background": "light"
          }
        }
      ]
    },
    {
      "cell_type": "code",
      "source": [
        "#handling outliers: InterQuartile Range(IQR)\n",
        "Q3=np.percentile(f1[\"Annual Income (k$)\"],75,interpolation='midpoint')\n",
        "Q1=np.percentile(f1[\"Annual Income (k$)\"],25,interpolation='midpoint')\n",
        "IQR=Q3-Q1\n",
        "print(\"Q1: \", Q1)\n",
        "print(\"Q3:\", Q3)\n",
        "print(\"IQR: \", IQR)"
      ],
      "metadata": {
        "colab": {
          "base_uri": "https://localhost:8080/"
        },
        "id": "jF2fJJ_O_6oG",
        "outputId": "88e48d56-1568-4317-e656-f9eb0bdc2285"
      },
      "execution_count": 37,
      "outputs": [
        {
          "output_type": "stream",
          "name": "stdout",
          "text": [
            "Q1:  41.0\n",
            "Q3: 78.0\n",
            "IQR:  37.0\n"
          ]
        }
      ]
    },
    {
      "cell_type": "code",
      "source": [
        "upperOutlayers=Q3+1.5*IQR\n",
        "lowerOutlayers=Q1-1.5*IQR\n",
        "print(upperOutlayers)\n",
        "print(lowerOutlayers)"
      ],
      "metadata": {
        "colab": {
          "base_uri": "https://localhost:8080/"
        },
        "id": "FAYU_HMm_6wq",
        "outputId": "62fd80ce-e302-4974-e3b4-1f5de498725d"
      },
      "execution_count": 38,
      "outputs": [
        {
          "output_type": "stream",
          "name": "stdout",
          "text": [
            "133.5\n",
            "-14.5\n"
          ]
        }
      ]
    },
    {
      "cell_type": "code",
      "source": [
        "f1.drop(np.where(f1[\"Annual Income (k$)\"]>=upperOutlayers)[0],inplace=True)\n",
        "f1.drop(np.where(f1[\"Annual Income (k$)\"]<=lowerOutlayers)[0],inplace=True)"
      ],
      "metadata": {
        "id": "PwDlK5D-AB-_"
      },
      "execution_count": 39,
      "outputs": []
    },
    {
      "cell_type": "code",
      "source": [
        "#find outliers-Spending Score (1-100)\n",
        "plt.boxplot(f1[\"Spending Score (1-100)\"])\n",
        "plt.show()"
      ],
      "metadata": {
        "colab": {
          "base_uri": "https://localhost:8080/",
          "height": 265
        },
        "id": "fOvywqknAJo_",
        "outputId": "bd24ebc2-0741-47bf-cf29-92030613276a"
      },
      "execution_count": 40,
      "outputs": [
        {
          "output_type": "display_data",
          "data": {
            "text/plain": [
              "<Figure size 432x288 with 1 Axes>"
            ],
            "image/png": "[encoded data removed]"
          },
          "metadata": {
            "needs_background": "light"
          }
        }
      ]
    },
    {
      "cell_type": "code",
      "source": [
        "#find outliers-Age\n",
        "plt.boxplot(f1[\"Age\"])\n",
        "plt.show()"
      ],
      "metadata": {
        "colab": {
          "base_uri": "https://localhost:8080/",
          "height": 265
        },
        "id": "DZJbih2mAgEq",
        "outputId": "a29e2749-845d-4112-8004-390fa20257a8"
      },
      "execution_count": 41,
      "outputs": [
        {
          "output_type": "display_data",
          "data": {
            "text/plain": [
              "<Figure size 432x288 with 1 Axes>"
            ],
            "image/png": "[encoded data removed]"
          },
          "metadata": {
            "needs_background": "light"
          }
        }
      ]
    },
    {
      "cell_type": "markdown",
      "source": [
        "**7) CHECK FOR CATEGORICAL COLUMNS AND PERFORM ENCODING**"
      ],
      "metadata": {
        "id": "6Be24NvmAjPo"
      }
    },
    {
      "cell_type": "code",
      "source": [
        "f1.info()"
      ],
      "metadata": {
        "colab": {
          "base_uri": "https://localhost:8080/"
        },
        "id": "2ffjEYamApBH",
        "outputId": "3d91e602-00cd-46d0-86f3-dba83fe16d1a"
      },
      "execution_count": 42,
      "outputs": [
        {
          "output_type": "stream",
          "name": "stdout",
          "text": [
            "<class 'pandas.core.frame.DataFrame'>\n",
            "Int64Index: 198 entries, 0 to 197\n",
            "Data columns (total 5 columns):\n",
            " #   Column                  Non-Null Count  Dtype \n",
            "---  ------                  --------------  ----- \n",
            " 0   CustomerID              198 non-null    int64 \n",
            " 1   Gender                  198 non-null    object\n",
            " 2   Age                     198 non-null    int64 \n",
            " 3   Annual Income (k$)      198 non-null    int64 \n",
            " 4   Spending Score (1-100)  198 non-null    int64 \n",
            "dtypes: int64(4), object(1)\n",
            "memory usage: 17.4+ KB\n"
          ]
        }
      ]
    },
    {
      "cell_type": "code",
      "source": [
        "from sklearn.preprocessing import LabelEncoder"
      ],
      "metadata": {
        "id": "tP4S8c_AAvb6"
      },
      "execution_count": 43,
      "outputs": []
    },
    {
      "cell_type": "code",
      "source": [
        "encod=LabelEncoder()\n",
        "f1['Spending Score (1-100)']=encod.fit_transform(f1['Spending Score (1-100)'])"
      ],
      "metadata": {
        "id": "Yx6GCaFCBELe"
      },
      "execution_count": 45,
      "outputs": []
    },
    {
      "cell_type": "code",
      "source": [
        "print(f1[\"Spending Score (1-100)\"].unique())"
      ],
      "metadata": {
        "colab": {
          "base_uri": "https://localhost:8080/"
        },
        "id": "t0VI6M3HHHK5",
        "outputId": "d490d5be-1a4d-496a-8048-5b63fed9f3f6"
      },
      "execution_count": 48,
      "outputs": [
        {
          "output_type": "stream",
          "name": "stdout",
          "text": [
            "[29 66  4 63 30 62 78  1 58 12 82 13 11 65 27 54 23 81 59  3 67 25 51 24\n",
            " 71  2 76 15 20 61 28 22 53 45 37 32 42 50 44 35 31 40 36 41 46 49 38 39\n",
            " 43 34 47 48 33 75 79  9  7 26 57 72  5  8 77 10 80 60 17 74 16 14 73  0\n",
            " 64 68 21 52 70 56 19 55 69 18  6]\n"
          ]
        }
      ]
    },
    {
      "cell_type": "code",
      "source": [
        "f1.head()"
      ],
      "metadata": {
        "colab": {
          "base_uri": "https://localhost:8080/",
          "height": 206
        },
        "id": "exrUhEcVGwk7",
        "outputId": "137cd22d-369d-4956-94c6-bf13011b15b7"
      },
      "execution_count": 46,
      "outputs": [
        {
          "output_type": "execute_result",
          "data": {
            "text/plain": [
              "   CustomerID  Gender  Age  Annual Income (k$)  Spending Score (1-100)\n",
              "0           1    Male   19                  15                      29\n",
              "1           2    Male   21                  15                      66\n",
              "2           3  Female   20                  16                       4\n",
              "3           4  Female   23                  16                      63\n",
              "4           5  Female   31                  17                      30"
            ],
            "text/html": [
              "\n",
              "  <div id=\"df-ffc7c018-43c9-41a7-84a5-278e631480c6\">\n",
              "    <div class=\"colab-df-container\">\n",
              "      <div>\n",
              "<style scoped>\n",
              "    .dataframe tbody tr th:only-of-type {\n",
              "        vertical-align: middle;\n",
              "    }\n",
              "\n",
              "    .dataframe tbody tr th {\n",
              "        vertical-align: top;\n",
              "    }\n",
              "\n",
              "    .dataframe thead th {\n",
              "        text-align: right;\n",
              "    }\n",
              "</style>\n",
              "<table border=\"1\" class=\"dataframe\">\n",
              "  <thead>\n",
              "    <tr style=\"text-align: right;\">\n",
              "      <th></th>\n",
              "      <th>CustomerID</th>\n",
              "      <th>Gender</th>\n",
              "      <th>Age</th>\n",
              "      <th>Annual Income (k$)</th>\n",
              "      <th>Spending Score (1-100)</th>\n",
              "    </tr>\n",
              "  </thead>\n",
              "  <tbody>\n",
              "    <tr>\n",
              "      <th>0</th>\n",
              "      <td>1</td>\n",
              "      <td>Male</td>\n",
              "      <td>19</td>\n",
              "      <td>15</td>\n",
              "      <td>29</td>\n",
              "    </tr>\n",
              "    <tr>\n",
              "      <th>1</th>\n",
              "      <td>2</td>\n",
              "      <td>Male</td>\n",
              "      <td>21</td>\n",
              "      <td>15</td>\n",
              "      <td>66</td>\n",
              "    </tr>\n",
              "    <tr>\n",
              "      <th>2</th>\n",
              "      <td>3</td>\n",
              "      <td>Female</td>\n",
              "      <td>20</td>\n",
              "      <td>16</td>\n",
              "      <td>4</td>\n",
              "    </tr>\n",
              "    <tr>\n",
              "      <th>3</th>\n",
              "      <td>4</td>\n",
              "      <td>Female</td>\n",
              "      <td>23</td>\n",
              "      <td>16</td>\n",
              "      <td>63</td>\n",
              "    </tr>\n",
              "    <tr>\n",
              "      <th>4</th>\n",
              "      <td>5</td>\n",
              "      <td>Female</td>\n",
              "      <td>31</td>\n",
              "      <td>17</td>\n",
              "      <td>30</td>\n",
              "    </tr>\n",
              "  </tbody>\n",
              "</table>\n",
              "</div>\n",
              "      <button class=\"colab-df-convert\" onclick=\"convertToInteractive('df-ffc7c018-43c9-41a7-84a5-278e631480c6')\"\n",
              "              title=\"Convert this dataframe to an interactive table.\"\n",
              "              style=\"display:none;\">\n",
              "        \n",
              "  <svg xmlns=\"http://www.w3.org/2000/svg\" height=\"24px\"viewBox=\"0 0 24 24\"\n",
              "       width=\"24px\">\n",
              "    <path d=\"M0 0h24v24H0V0z\" fill=\"none\"/>\n",
              "    <path d=\"M18.56 5.44l.94 2.06.94-2.06 2.06-.94-2.06-.94-.94-2.06-.94 2.06-2.06.94zm-11 1L8.5 8.5l.94-2.06 2.06-.94-2.06-.94L8.5 2.5l-.94 2.06-2.06.94zm10 10l.94 2.06.94-2.06 2.06-.94-2.06-.94-.94-2.06-.94 2.06-2.06.94z\"/><path d=\"M17.41 7.96l-1.37-1.37c-.4-.4-.92-.59-1.43-.59-.52 0-1.04.2-1.43.59L10.3 9.45l-7.72 7.72c-.78.78-.78 2.05 0 2.83L4 21.41c.39.39.9.59 1.41.59.51 0 1.02-.2 1.41-.59l7.78-7.78 2.81-2.81c.8-.78.8-2.07 0-2.86zM5.41 20L4 18.59l7.72-7.72 1.47 1.35L5.41 20z\"/>\n",
              "  </svg>\n",
              "      </button>\n",
              "      \n",
              "  <style>\n",
              "    .colab-df-container {\n",
              "      display:flex;\n",
              "      flex-wrap:wrap;\n",
              "      gap: 12px;\n",
              "    }\n",
              "\n",
              "    .colab-df-convert {\n",
              "      background-color: #E8F0FE;\n",
              "      border: none;\n",
              "      border-radius: 50%;\n",
              "      cursor: pointer;\n",
              "      display: none;\n",
              "      fill: #1967D2;\n",
              "      height: 32px;\n",
              "      padding: 0 0 0 0;\n",
              "      width: 32px;\n",
              "    }\n",
              "\n",
              "    .colab-df-convert:hover {\n",
              "      background-color: #E2EBFA;\n",
              "      box-shadow: 0px 1px 2px rgba(60, 64, 67, 0.3), 0px 1px 3px 1px rgba(60, 64, 67, 0.15);\n",
              "      fill: #174EA6;\n",
              "    }\n",
              "\n",
              "    [theme=dark] .colab-df-convert {\n",
              "      background-color: #3B4455;\n",
              "      fill: #D2E3FC;\n",
              "    }\n",
              "\n",
              "    [theme=dark] .colab-df-convert:hover {\n",
              "      background-color: #434B5C;\n",
              "      box-shadow: 0px 1px 3px 1px rgba(0, 0, 0, 0.15);\n",
              "      filter: drop-shadow(0px 1px 2px rgba(0, 0, 0, 0.3));\n",
              "      fill: #FFFFFF;\n",
              "    }\n",
              "  </style>\n",
              "\n",
              "      <script>\n",
              "        const buttonEl =\n",
              "          document.querySelector('#df-ffc7c018-43c9-41a7-84a5-278e631480c6 button.colab-df-convert');\n",
              "        buttonEl.style.display =\n",
              "          google.colab.kernel.accessAllowed ? 'block' : 'none';\n",
              "\n",
              "        async function convertToInteractive(key) {\n",
              "          const element = document.querySelector('#df-ffc7c018-43c9-41a7-84a5-278e631480c6');\n",
              "          const dataTable =\n",
              "            await google.colab.kernel.invokeFunction('convertToInteractive',\n",
              "                                                     [key], {});\n",
              "          if (!dataTable) return;\n",
              "\n",
              "          const docLinkHtml = 'Like what you see? Visit the ' +\n",
              "            '<a target=\"_blank\" href=https://colab.research.google.com/notebooks/data_table.ipynb>data table notebook</a>'\n",
              "            + ' to learn more about interactive tables.';\n",
              "          element.innerHTML = '';\n",
              "          dataTable['output_type'] = 'display_data';\n",
              "          await google.colab.output.renderOutput(dataTable, element);\n",
              "          const docLink = document.createElement('div');\n",
              "          docLink.innerHTML = docLinkHtml;\n",
              "          element.appendChild(docLink);\n",
              "        }\n",
              "      </script>\n",
              "    </div>\n",
              "  </div>\n",
              "  "
            ]
          },
          "metadata": {},
          "execution_count": 46
        }
      ]
    },
    {
      "cell_type": "code",
      "source": [
        "f1.info()"
      ],
      "metadata": {
        "colab": {
          "base_uri": "https://localhost:8080/"
        },
        "id": "CveKAeEbHEj0",
        "outputId": "52bbb401-257f-44fe-afb2-a7b3e8a9c6bd"
      },
      "execution_count": 47,
      "outputs": [
        {
          "output_type": "stream",
          "name": "stdout",
          "text": [
            "<class 'pandas.core.frame.DataFrame'>\n",
            "Int64Index: 198 entries, 0 to 197\n",
            "Data columns (total 5 columns):\n",
            " #   Column                  Non-Null Count  Dtype \n",
            "---  ------                  --------------  ----- \n",
            " 0   CustomerID              198 non-null    int64 \n",
            " 1   Gender                  198 non-null    object\n",
            " 2   Age                     198 non-null    int64 \n",
            " 3   Annual Income (k$)      198 non-null    int64 \n",
            " 4   Spending Score (1-100)  198 non-null    int64 \n",
            "dtypes: int64(4), object(1)\n",
            "memory usage: 17.4+ KB\n"
          ]
        }
      ]
    },
    {
      "cell_type": "markdown",
      "source": [
        "**8) SCALING THE DATA**"
      ],
      "metadata": {
        "id": "lfkqvSiiHARA"
      }
    },
    {
      "cell_type": "code",
      "source": [
        "from sklearn.preprocessing import scale"
      ],
      "metadata": {
        "id": "4MlfD17AG-tA"
      },
      "execution_count": 49,
      "outputs": []
    },
    {
      "cell_type": "code",
      "source": [
        "x=f1.drop(columns=['Gender'],axis=1)\n",
        "x.head()"
      ],
      "metadata": {
        "colab": {
          "base_uri": "https://localhost:8080/",
          "height": 206
        },
        "id": "IlbjCwoBHZH6",
        "outputId": "ac9eeb5e-616a-4305-eb8f-803fbb2bd834"
      },
      "execution_count": 50,
      "outputs": [
        {
          "output_type": "execute_result",
          "data": {
            "text/plain": [
              "   CustomerID  Age  Annual Income (k$)  Spending Score (1-100)\n",
              "0           1   19                  15                      29\n",
              "1           2   21                  15                      66\n",
              "2           3   20                  16                       4\n",
              "3           4   23                  16                      63\n",
              "4           5   31                  17                      30"
            ],
            "text/html": [
              "\n",
              "  <div id=\"df-2a17069c-d610-4244-9888-2558f110f396\">\n",
              "    <div class=\"colab-df-container\">\n",
              "      <div>\n",
              "<style scoped>\n",
              "    .dataframe tbody tr th:only-of-type {\n",
              "        vertical-align: middle;\n",
              "    }\n",
              "\n",
              "    .dataframe tbody tr th {\n",
              "        vertical-align: top;\n",
              "    }\n",
              "\n",
              "    .dataframe thead th {\n",
              "        text-align: right;\n",
              "    }\n",
              "</style>\n",
              "<table border=\"1\" class=\"dataframe\">\n",
              "  <thead>\n",
              "    <tr style=\"text-align: right;\">\n",
              "      <th></th>\n",
              "      <th>CustomerID</th>\n",
              "      <th>Age</th>\n",
              "      <th>Annual Income (k$)</th>\n",
              "      <th>Spending Score (1-100)</th>\n",
              "    </tr>\n",
              "  </thead>\n",
              "  <tbody>\n",
              "    <tr>\n",
              "      <th>0</th>\n",
              "      <td>1</td>\n",
              "      <td>19</td>\n",
              "      <td>15</td>\n",
              "      <td>29</td>\n",
              "    </tr>\n",
              "    <tr>\n",
              "      <th>1</th>\n",
              "      <td>2</td>\n",
              "      <td>21</td>\n",
              "      <td>15</td>\n",
              "      <td>66</td>\n",
              "    </tr>\n",
              "    <tr>\n",
              "      <th>2</th>\n",
              "      <td>3</td>\n",
              "      <td>20</td>\n",
              "      <td>16</td>\n",
              "      <td>4</td>\n",
              "    </tr>\n",
              "    <tr>\n",
              "      <th>3</th>\n",
              "      <td>4</td>\n",
              "      <td>23</td>\n",
              "      <td>16</td>\n",
              "      <td>63</td>\n",
              "    </tr>\n",
              "    <tr>\n",
              "      <th>4</th>\n",
              "      <td>5</td>\n",
              "      <td>31</td>\n",
              "      <td>17</td>\n",
              "      <td>30</td>\n",
              "    </tr>\n",
              "  </tbody>\n",
              "</table>\n",
              "</div>\n",
              "      <button class=\"colab-df-convert\" onclick=\"convertToInteractive('df-2a17069c-d610-4244-9888-2558f110f396')\"\n",
              "              title=\"Convert this dataframe to an interactive table.\"\n",
              "              style=\"display:none;\">\n",
              "        \n",
              "  <svg xmlns=\"http://www.w3.org/2000/svg\" height=\"24px\"viewBox=\"0 0 24 24\"\n",
              "       width=\"24px\">\n",
              "    <path d=\"M0 0h24v24H0V0z\" fill=\"none\"/>\n",
              "    <path d=\"M18.56 5.44l.94 2.06.94-2.06 2.06-.94-2.06-.94-.94-2.06-.94 2.06-2.06.94zm-11 1L8.5 8.5l.94-2.06 2.06-.94-2.06-.94L8.5 2.5l-.94 2.06-2.06.94zm10 10l.94 2.06.94-2.06 2.06-.94-2.06-.94-.94-2.06-.94 2.06-2.06.94z\"/><path d=\"M17.41 7.96l-1.37-1.37c-.4-.4-.92-.59-1.43-.59-.52 0-1.04.2-1.43.59L10.3 9.45l-7.72 7.72c-.78.78-.78 2.05 0 2.83L4 21.41c.39.39.9.59 1.41.59.51 0 1.02-.2 1.41-.59l7.78-7.78 2.81-2.81c.8-.78.8-2.07 0-2.86zM5.41 20L4 18.59l7.72-7.72 1.47 1.35L5.41 20z\"/>\n",
              "  </svg>\n",
              "      </button>\n",
              "      \n",
              "  <style>\n",
              "    .colab-df-container {\n",
              "      display:flex;\n",
              "      flex-wrap:wrap;\n",
              "      gap: 12px;\n",
              "    }\n",
              "\n",
              "    .colab-df-convert {\n",
              "      background-color: #E8F0FE;\n",
              "      border: none;\n",
              "      border-radius: 50%;\n",
              "      cursor: pointer;\n",
              "      display: none;\n",
              "      fill: #1967D2;\n",
              "      height: 32px;\n",
              "      padding: 0 0 0 0;\n",
              "      width: 32px;\n",
              "    }\n",
              "\n",
              "    .colab-df-convert:hover {\n",
              "      background-color: #E2EBFA;\n",
              "      box-shadow: 0px 1px 2px rgba(60, 64, 67, 0.3), 0px 1px 3px 1px rgba(60, 64, 67, 0.15);\n",
              "      fill: #174EA6;\n",
              "    }\n",
              "\n",
              "    [theme=dark] .colab-df-convert {\n",
              "      background-color: #3B4455;\n",
              "      fill: #D2E3FC;\n",
              "    }\n",
              "\n",
              "    [theme=dark] .colab-df-convert:hover {\n",
              "      background-color: #434B5C;\n",
              "      box-shadow: 0px 1px 3px 1px rgba(0, 0, 0, 0.15);\n",
              "      filter: drop-shadow(0px 1px 2px rgba(0, 0, 0, 0.3));\n",
              "      fill: #FFFFFF;\n",
              "    }\n",
              "  </style>\n",
              "\n",
              "      <script>\n",
              "        const buttonEl =\n",
              "          document.querySelector('#df-2a17069c-d610-4244-9888-2558f110f396 button.colab-df-convert');\n",
              "        buttonEl.style.display =\n",
              "          google.colab.kernel.accessAllowed ? 'block' : 'none';\n",
              "\n",
              "        async function convertToInteractive(key) {\n",
              "          const element = document.querySelector('#df-2a17069c-d610-4244-9888-2558f110f396');\n",
              "          const dataTable =\n",
              "            await google.colab.kernel.invokeFunction('convertToInteractive',\n",
              "                                                     [key], {});\n",
              "          if (!dataTable) return;\n",
              "\n",
              "          const docLinkHtml = 'Like what you see? Visit the ' +\n",
              "            '<a target=\"_blank\" href=https://colab.research.google.com/notebooks/data_table.ipynb>data table notebook</a>'\n",
              "            + ' to learn more about interactive tables.';\n",
              "          element.innerHTML = '';\n",
              "          dataTable['output_type'] = 'display_data';\n",
              "          await google.colab.output.renderOutput(dataTable, element);\n",
              "          const docLink = document.createElement('div');\n",
              "          docLink.innerHTML = docLinkHtml;\n",
              "          element.appendChild(docLink);\n",
              "        }\n",
              "      </script>\n",
              "    </div>\n",
              "  </div>\n",
              "  "
            ]
          },
          "metadata": {},
          "execution_count": 50
        }
      ]
    },
    {
      "cell_type": "code",
      "source": [
        "x=scale(x)\n",
        "x"
      ],
      "metadata": {
        "colab": {
          "base_uri": "https://localhost:8080/"
        },
        "id": "1aj2w8AaHbM6",
        "outputId": "9b8442e9-8e1a-4c17-9035-9f5fe30eb7d6"
      },
      "execution_count": 51,
      "outputs": [
        {
          "output_type": "execute_result",
          "data": {
            "text/plain": [
              "array([[-1.72332506, -1.42541358, -1.77917141, -0.53879067],\n",
              "       [-1.70582937, -1.2823665 , -1.77917141,  1.19318845],\n",
              "       [-1.68833368, -1.35389004, -1.73944701, -1.70904683],\n",
              "       [-1.670838  , -1.13931942, -1.73944701,  1.05275771],\n",
              "       [-1.65334231, -0.5671311 , -1.69972262, -0.49198042],\n",
              "       [-1.63584663, -1.21084296, -1.69972262,  1.00594747],\n",
              "       [-1.61835094, -0.28103694, -1.65999822, -1.70904683],\n",
              "       [-1.60085525, -1.13931942, -1.65999822,  1.75491141],\n",
              "       [-1.58335957,  1.79314572, -1.62027383, -1.84947757],\n",
              "       [-1.56586388, -0.63865464, -1.62027383,  0.81870648],\n",
              "       [-1.5483682 ,  2.00771635, -1.62027383, -1.33456486],\n",
              "       [-1.53087251, -0.28103694, -1.62027383,  1.9421524 ],\n",
              "       [-1.51337683,  1.36400448, -1.58054943, -1.28775461],\n",
              "       [-1.49588114, -1.06779588, -1.58054943,  1.05275771],\n",
              "       [-1.47838545, -0.13798986, -1.58054943, -1.3813751 ],\n",
              "       [-1.46088977, -1.21084296, -1.58054943,  1.14637821],\n",
              "       [-1.44339408, -0.28103694, -1.54082504, -0.63241116],\n",
              "       [-1.4258984 , -1.35389004, -1.54082504,  0.6314655 ],\n",
              "       [-1.40840271,  0.93486324, -1.46137625, -0.81965214],\n",
              "       [-1.39090702, -0.28103694, -1.46137625,  1.89534215],\n",
              "       [-1.37341134, -0.28103694, -1.42165185, -0.63241116],\n",
              "       [-1.35591565, -0.99627234, -1.42165185,  0.86551673],\n",
              "       [-1.33841997,  0.505722  , -1.38192745, -1.75585707],\n",
              "       [-1.32092428, -0.5671311 , -1.38192745,  0.86551673],\n",
              "       [-1.3034286 ,  1.07791032, -1.26275427, -1.33456486],\n",
              "       [-1.28593291, -0.71017818, -1.26275427,  1.2399987 ],\n",
              "       [-1.26843722,  0.43419846, -1.26275427, -0.72603165],\n",
              "       [-1.25094154, -0.28103694, -1.26275427,  0.49103476],\n",
              "       [-1.23344585,  0.07658076, -1.22302987, -0.7728419 ],\n",
              "       [-1.21595017, -1.13931942, -1.22302987,  1.42723969],\n",
              "       [-1.19845448,  1.50705156, -1.18330548, -1.80266732],\n",
              "       [-1.18095879, -1.2823665 , -1.18330548,  0.86551673],\n",
              "       [-1.16346311,  1.00638678, -1.06413229, -1.80266732],\n",
              "       [-1.14596742, -1.49693712, -1.06413229,  1.66129092],\n",
              "       [-1.12847174,  0.72029262, -1.06413229, -1.33456486],\n",
              "       [-1.11097605, -1.2823665 , -1.06413229,  1.19318845],\n",
              "       [-1.09348037,  0.21962784, -1.0244079 , -1.19413412],\n",
              "       [-1.07598468, -0.63865464, -1.0244079 ,  0.86551673],\n",
              "       [-1.05848899, -0.2095134 , -0.90523471, -0.96008288],\n",
              "       [-1.04099331, -1.35389004, -0.90523471,  0.95913722],\n",
              "       [-1.02349762,  1.86466927, -0.86551031, -0.63241116],\n",
              "       [-1.00600194, -1.06779588, -0.86551031,  1.66129092],\n",
              "       [-0.98850625,  0.64876908, -0.82578592, -0.58560091],\n",
              "       [-0.97101056, -0.5671311 , -0.82578592,  0.49103476],\n",
              "       [-0.95351488,  0.72029262, -0.82578592, -0.86646239],\n",
              "       [-0.93601919, -1.06779588, -0.82578592,  0.58465525],\n",
              "       [-0.91852351,  0.79181616, -0.78606152,  0.21017328],\n",
              "       [-0.90102782, -0.85322526, -0.78606152, -0.16430869],\n",
              "       [-0.88353213, -0.71017818, -0.78606152, -0.39835993],\n",
              "       [-0.86603645, -0.5671311 , -0.78606152, -0.39835993],\n",
              "       [-0.84854076,  0.72029262, -0.70661273,  0.06974254],\n",
              "       [-0.83104508, -0.42408402, -0.70661273,  0.44422451],\n",
              "       [-0.81354939, -0.5671311 , -0.66688834,  0.16336303],\n",
              "       [-0.79605371,  1.43552802, -0.66688834,  0.44422451],\n",
              "       [-0.77855802,  0.79181616, -0.66688834, -0.25792919],\n",
              "       [-0.76106233,  0.57724554, -0.66688834, -0.44517017],\n",
              "       [-0.74356665,  0.8633397 , -0.62716394, -0.02387795],\n",
              "       [-0.72607096,  2.15076343, -0.62716394, -0.21111894],\n",
              "       [-0.70857528, -0.85322526, -0.54771515,  0.02293229],\n",
              "       [-0.69107959,  1.00638678, -0.54771515, -0.21111894],\n",
              "       [-0.6735839 ,  2.22228697, -0.54771515,  0.25698352],\n",
              "       [-0.65608822, -1.42541358, -0.54771515,  0.21017328],\n",
              "       [-0.63859253,  2.00771635, -0.50799075,  0.06974254],\n",
              "       [-0.62109685,  1.07791032, -0.50799075,  0.39741426],\n",
              "       [-0.60360116,  1.72162218, -0.46826636,  0.02293229],\n",
              "       [-0.58610548, -1.49693712, -0.46826636,  0.39741426],\n",
              "       [-0.56860979,  0.29115138, -0.46826636, -0.02387795],\n",
              "       [-0.5511141 ,  2.07923989, -0.46826636, -0.11749845],\n",
              "       [-0.53361842, -1.42541358, -0.46826636,  0.39741426],\n",
              "       [-0.51612273, -0.49560756, -0.46826636, -0.16430869],\n",
              "       [-0.49862705,  2.22228697, -0.42854196,  0.21017328],\n",
              "       [-0.48113136,  0.57724554, -0.42854196, -0.39835993],\n",
              "       [-0.46363567,  1.50705156, -0.38881757, -0.0706882 ],\n",
              "       [-0.44613999,  1.50705156, -0.38881757,  0.25698352],\n",
              "       [-0.4286443 ,  1.43552802, -0.22991999, -0.16430869],\n",
              "       [-0.41114862, -0.9247488 , -0.22991999,  0.16336303],\n",
              "       [-0.39365293,  0.43419846, -0.22991999,  0.11655279],\n",
              "       [-0.37615725,  0.07658076, -0.22991999, -0.11749845],\n",
              "       [-0.35866156, -1.13931942, -0.22991999,  0.06974254],\n",
              "       [-0.34116587,  0.72029262, -0.22991999, -0.39835993],\n",
              "       [-0.32367019,  1.29248094, -0.22991999,  0.02293229],\n",
              "       [-0.3061745 , -0.06646632, -0.22991999,  0.21017328],\n",
              "       [-0.28867882,  2.00771635, -0.22991999, -0.44517017],\n",
              "       [-0.27118313,  0.505722  , -0.22991999, -0.30473943],\n",
              "       [-0.25368744, -1.2823665 , -0.22991999,  0.30379377],\n",
              "       [-0.23619176,  0.64876908, -0.22991999, -0.21111894],\n",
              "       [-0.21869607,  1.14943386, -0.1107468 ,  0.35060402],\n",
              "       [-0.20120039, -1.21084296, -0.1107468 ,  0.21017328],\n",
              "       [-0.1837047 , -0.35256048, -0.0710224 ,  0.44422451],\n",
              "       [-0.16620902,  0.79181616, -0.0710224 , -0.21111894],\n",
              "       [-0.14871333,  2.07923989, -0.03129801,  0.21017328],\n",
              "       [-0.13121764, -1.49693712, -0.03129801, -0.44517017],\n",
              "       [-0.11372196,  0.64876908,  0.00842639, -0.0706882 ],\n",
              "       [-0.09622627,  0.07658076,  0.00842639, -0.49198042],\n",
              "       [-0.07873059, -0.49560756,  0.00842639, -0.39835993],\n",
              "       [-0.0612349 , -1.06779588,  0.00842639,  0.06974254],\n",
              "       [-0.04373921,  0.57724554,  0.00842639, -0.16430869],\n",
              "       [-0.02624353, -0.85322526,  0.00842639, -0.02387795],\n",
              "       [-0.00874784,  0.64876908,  0.04815078, -0.39835993],\n",
              "       [ 0.00874784, -1.35389004,  0.04815078, -0.0706882 ],\n",
              "       [ 0.02624353, -1.13931942,  0.08787518, -0.44517017],\n",
              "       [ 0.04373921,  0.72029262,  0.08787518, -0.11749845],\n",
              "       [ 0.0612349 ,  2.00771635,  0.08787518,  0.39741426],\n",
              "       [ 0.07873059, -0.9247488 ,  0.08787518,  0.21017328],\n",
              "       [ 0.09622627,  0.72029262,  0.08787518,  0.25698352],\n",
              "       [ 0.11372196, -1.2823665 ,  0.08787518, -0.39835993],\n",
              "       [ 0.13121764,  1.93619281,  0.12759957, -0.02387795],\n",
              "       [ 0.14871333,  1.07791032,  0.12759957, -0.21111894],\n",
              "       [ 0.16620902,  2.07923989,  0.12759957, -0.35154968],\n",
              "       [ 0.1837047 ,  1.93619281,  0.12759957, -0.11749845],\n",
              "       [ 0.20120039,  1.86466927,  0.12759957,  0.06974254],\n",
              "       [ 0.21869607, -1.42541358,  0.12759957,  0.16336303],\n",
              "       [ 0.23619176, -0.06646632,  0.16732397, -0.39835993],\n",
              "       [ 0.25368744, -1.42541358,  0.16732397, -0.21111894],\n",
              "       [ 0.27118313, -1.49693712,  0.20704836, -0.11749845],\n",
              "       [ 0.28867882, -1.42541358,  0.20704836, -0.02387795],\n",
              "       [ 0.3061745 ,  1.72162218,  0.20704836, -0.35154968],\n",
              "       [ 0.32367019,  0.72029262,  0.20704836,  0.39741426],\n",
              "       [ 0.34116587,  0.8633397 ,  0.28649716, -0.35154968],\n",
              "       [ 0.35866156,  0.79181616,  0.28649716,  0.30379377],\n",
              "       [ 0.37615725, -0.85322526,  0.28649716,  0.25698352],\n",
              "       [ 0.39365293, -0.06646632,  0.28649716, -0.49198042],\n",
              "       [ 0.41114862,  0.07658076,  0.36594595,  0.35060402],\n",
              "       [ 0.4286443 ,  0.00505722,  0.36594595,  1.61448067],\n",
              "       [ 0.44613999, -1.13931942,  0.40567034, -0.81965214],\n",
              "       [ 0.46363567, -0.5671311 ,  0.40567034,  1.05275771],\n",
              "       [ 0.48113136,  0.29115138,  0.44539474, -0.63241116],\n",
              "       [ 0.49862705,  0.07658076,  0.44539474,  1.80172166],\n",
              "       [ 0.51612273,  1.43552802,  0.44539474, -1.47499559],\n",
              "       [ 0.53361842, -0.06646632,  0.44539474,  0.95913722],\n",
              "       [ 0.5511141 ,  0.57724554,  0.44539474, -1.56861609],\n",
              "       [ 0.56860979,  0.00505722,  0.44539474,  0.95913722],\n",
              "       [ 0.58610548, -0.99627234,  0.48511913, -0.6792214 ],\n",
              "       [ 0.60360116, -0.5671311 ,  0.48511913,  0.77189624],\n",
              "       [ 0.62109685, -1.35389004,  0.52484353, -1.75585707],\n",
              "       [ 0.63859253, -0.71017818,  0.52484353,  1.47404993],\n",
              "       [ 0.65608822,  0.36267492,  0.52484353, -1.66223658],\n",
              "       [ 0.6735839 , -0.49560756,  0.52484353,  0.86551673],\n",
              "       [ 0.69107959, -1.42541358,  0.56456792, -1.52180584],\n",
              "       [ 0.70857528, -0.28103694,  0.56456792,  0.81870648],\n",
              "       [ 0.72607096,  1.29248094,  0.60429232, -1.75585707],\n",
              "       [ 0.74356665, -0.49560756,  0.60429232,  1.70810117],\n",
              "       [ 0.76106233, -0.78170172,  0.64401671, -0.49198042],\n",
              "       [ 0.77855802, -0.49560756,  0.64401671,  1.42723969],\n",
              "       [ 0.79605371, -0.99627234,  0.68374111, -1.42818535],\n",
              "       [ 0.81354939, -0.78170172,  0.68374111,  1.84853191],\n",
              "       [ 0.83104508,  0.64876908,  0.68374111, -0.58560091],\n",
              "       [ 0.84854076, -0.49560756,  0.68374111,  0.91232698],\n",
              "       [ 0.86603645, -0.35256048,  0.72346551, -1.10051362],\n",
              "       [ 0.88353213, -0.35256048,  0.72346551,  1.56767043],\n",
              "       [ 0.90102782,  0.29115138,  0.72346551, -1.19413412],\n",
              "       [ 0.91852351,  0.00505722,  0.72346551,  1.47404993],\n",
              "       [ 0.93601919,  0.36267492,  0.72346551, -1.14732387],\n",
              "       [ 0.95351488, -0.06646632,  0.72346551,  1.00594747],\n",
              "       [ 0.97101056,  0.57724554,  0.72346551, -1.24094436],\n",
              "       [ 0.98850625, -0.85322526,  0.72346551,  1.52086018],\n",
              "       [ 1.00600194, -0.13798986,  0.72346551, -1.89628781],\n",
              "       [ 1.02349762, -0.63865464,  0.72346551,  1.09956796],\n",
              "       [ 1.04099331, -0.35256048,  0.72346551, -1.89628781],\n",
              "       [ 1.05848899, -0.63865464,  0.72346551,  0.86551673],\n",
              "       [ 1.07598468,  1.2209574 ,  0.7631899 , -0.63241116],\n",
              "       [ 1.09348037, -0.71017818,  0.7631899 ,  1.28680895],\n",
              "       [ 1.11097605, -1.42541358,  0.84263869, -1.75585707],\n",
              "       [ 1.12847174, -0.5671311 ,  0.84263869,  1.70810117],\n",
              "       [ 1.14596742,  0.79181616,  1.00153627, -0.96008288],\n",
              "       [ 1.16346311, -0.2095134 ,  1.00153627,  0.95913722],\n",
              "       [ 1.18095879,  0.21962784,  1.04126067, -1.14732387],\n",
              "       [ 1.19845448, -0.42408402,  1.04126067,  1.80172166],\n",
              "       [ 1.21595017, -0.2095134 ,  1.08098506, -0.91327264],\n",
              "       [ 1.23344585, -0.49560756,  1.08098506,  0.537845  ],\n",
              "       [ 1.25094154,  0.07658076,  1.08098506, -1.3813751 ],\n",
              "       [ 1.26843722, -0.78170172,  1.08098506,  0.95913722],\n",
              "       [ 1.28593291, -0.2095134 ,  1.08098506, -1.52180584],\n",
              "       [ 1.3034286 , -0.2095134 ,  1.08098506,  1.66129092],\n",
              "       [ 1.32092428,  0.93486324,  1.12070946, -1.3813751 ],\n",
              "       [ 1.33841997, -0.63865464,  1.12070946,  1.38042944],\n",
              "       [ 1.35591565,  1.36400448,  1.12070946, -1.28775461],\n",
              "       [ 1.37341134, -0.85322526,  1.12070946,  0.72508599],\n",
              "       [ 1.39090702,  1.43552802,  1.31933144, -1.33456486],\n",
              "       [ 1.40840271, -0.28103694,  1.31933144,  1.56767043],\n",
              "       [ 1.4258984 , -0.13798986,  1.47822902, -0.72603165],\n",
              "       [ 1.44339408, -0.49560756,  1.47822902,  1.38042944],\n",
              "       [ 1.46088977,  0.505722  ,  1.51795342, -1.28775461],\n",
              "       [ 1.47838545, -0.71017818,  1.51795342,  1.47404993],\n",
              "       [ 1.49588114,  0.1481043 ,  1.55767781, -0.53879067],\n",
              "       [ 1.51337683, -0.63865464,  1.55767781,  1.84853191],\n",
              "       [ 1.53087251,  1.07791032,  1.6371266 , -1.00689313],\n",
              "       [ 1.5483682 , -0.78170172,  1.6371266 ,  0.67827574],\n",
              "       [ 1.56586388,  0.1481043 ,  1.71657539, -1.19413412],\n",
              "       [ 1.58335957, -0.2095134 ,  1.71657539,  1.33361919],\n",
              "       [ 1.60085525, -0.35256048,  1.71657539, -1.05370338],\n",
              "       [ 1.61835094, -0.49560756,  1.71657539,  0.72508599],\n",
              "       [ 1.63584663, -0.42408402,  2.11381935, -1.61542633],\n",
              "       [ 1.65334231, -0.06646632,  2.11381935,  1.61448067],\n",
              "       [ 1.670838  ,  0.57724554,  2.39189012, -1.24094436],\n",
              "       [ 1.68833368, -0.28103694,  2.39189012,  1.14637821],\n",
              "       [ 1.70582937,  0.43419846,  2.63023649, -0.86646239],\n",
              "       [ 1.72332506, -0.49560756,  2.63023649,  0.91232698]])"
            ]
          },
          "metadata": {},
          "execution_count": 51
        }
      ]
    },
    {
      "cell_type": "code",
      "source": [
        "x.mean()"
      ],
      "metadata": {
        "colab": {
          "base_uri": "https://localhost:8080/"
        },
        "id": "TVXzJecVHgjG",
        "outputId": "24ca8de7-3c87-45d2-ba55-938052018ea0"
      },
      "execution_count": 52,
      "outputs": [
        {
          "output_type": "execute_result",
          "data": {
            "text/plain": [
              "1.570012358055777e-17"
            ]
          },
          "metadata": {},
          "execution_count": 52
        }
      ]
    },
    {
      "cell_type": "code",
      "source": [
        "x.std()"
      ],
      "metadata": {
        "colab": {
          "base_uri": "https://localhost:8080/"
        },
        "id": "RhjEb82XHhxe",
        "outputId": "5a4103a5-2622-4244-f1d0-825b9339ef14"
      },
      "execution_count": 54,
      "outputs": [
        {
          "output_type": "execute_result",
          "data": {
            "text/plain": [
              "1.0"
            ]
          },
          "metadata": {},
          "execution_count": 54
        }
      ]
    },
    {
      "cell_type": "markdown",
      "source": [
        "**9) PERFORM CLUSTERING ALGORITHM**"
      ],
      "metadata": {
        "id": "cMjFWm8LHoZN"
      }
    },
    {
      "cell_type": "code",
      "source": [
        "from sklearn.cluster import KMeans\n",
        "wcss=[]\n",
        "for i in range (1,11):\n",
        "  kmeans=KMeans(n_clusters=i, init='k-means++',random_state=0)\n",
        "  kmeans.fit(x)\n",
        "  wcss.append(kmeans.inertia_)"
      ],
      "metadata": {
        "id": "UA8wMNlWHmuV"
      },
      "execution_count": 56,
      "outputs": []
    },
    {
      "cell_type": "code",
      "source": [
        "wcss"
      ],
      "metadata": {
        "colab": {
          "base_uri": "https://localhost:8080/"
        },
        "id": "zFsitGjdIUu5",
        "outputId": "c3711456-d073-46fe-9c3f-534a5da6cd5f"
      },
      "execution_count": 57,
      "outputs": [
        {
          "output_type": "execute_result",
          "data": {
            "text/plain": [
              "[791.9999999999998,\n",
              " 508.44874485439107,\n",
              " 368.58328054500737,\n",
              " 257.0929393027723,\n",
              " 206.35125359279914,\n",
              " 156.94571620133905,\n",
              " 140.89593744774663,\n",
              " 125.07516278994356,\n",
              " 114.55898071571418,\n",
              " 101.0295653122749]"
            ]
          },
          "metadata": {},
          "execution_count": 57
        }
      ]
    },
    {
      "cell_type": "code",
      "source": [
        "plt.figure(figsize=(12,8))\n",
        "plt.plot(range(1,11),wcss)\n",
        "plt.title('The Elbow Method')\n",
        "plt.plot(range(1,11),wcss, linewidth=2, color=\"blue\", marker =\"8\")\n",
        "plt.xlabel(\"No. of clusters/ k-value\")\n",
        "plt.xticks(np.arange(1,11,1))\n",
        "plt.ylabel(\"wcss\")\n",
        "plt.show()"
      ],
      "metadata": {
        "colab": {
          "base_uri": "https://localhost:8080/",
          "height": 513
        },
        "id": "RSTWrlERIXIA",
        "outputId": "d1f86e6f-3c5b-4f56-eb5a-043dbd0adf07"
      },
      "execution_count": 60,
      "outputs": [
        {
          "output_type": "display_data",
          "data": {
            "text/plain": [
              "<Figure size 864x576 with 1 Axes>"
            ],
            "image/png": "[encoded data removed]"
          },
          "metadata": {
            "needs_background": "light"
          }
        }
      ]
    },
    {
      "cell_type": "code",
      "source": [
        "#BUILD MODEL\n",
        "kmodel=KMeans(n_clusters=5,init='k-means++',random_state=0)\n",
        "y_kmeans=kmodel.fit_predict(x)"
      ],
      "metadata": {
        "id": "mcgxkkhPJVg6"
      },
      "execution_count": 62,
      "outputs": []
    },
    {
      "cell_type": "code",
      "source": [
        "kmodel.labels_"
      ],
      "metadata": {
        "colab": {
          "base_uri": "https://localhost:8080/"
        },
        "id": "RbwN5tS7Jw8X",
        "outputId": "4ace948d-d85d-4ea1-a43a-f766538e657d"
      },
      "execution_count": 64,
      "outputs": [
        {
          "output_type": "execute_result",
          "data": {
            "text/plain": [
              "array([0, 0, 4, 0, 4, 0, 4, 0, 4, 0, 4, 0, 4, 0, 4, 0, 4, 0, 4, 0, 4, 0,\n",
              "       4, 0, 4, 0, 4, 0, 4, 0, 4, 0, 4, 0, 4, 0, 4, 0, 4, 0, 1, 0, 4, 0,\n",
              "       4, 0, 1, 0, 0, 0, 1, 0, 0, 1, 1, 1, 1, 1, 0, 1, 1, 0, 1, 1, 1, 0,\n",
              "       1, 1, 0, 0, 1, 1, 1, 1, 1, 0, 1, 1, 0, 1, 1, 0, 1, 1, 0, 1, 1, 0,\n",
              "       0, 1, 1, 0, 1, 1, 0, 0, 1, 0, 1, 0, 0, 1, 1, 0, 1, 0, 1, 1, 1, 1,\n",
              "       1, 0, 2, 0, 0, 0, 1, 1, 1, 1, 3, 2, 3, 3, 2, 3, 2, 3, 2, 3, 2, 3,\n",
              "       2, 3, 2, 3, 2, 3, 2, 3, 2, 3, 2, 3, 2, 3, 2, 3, 2, 3, 2, 3, 2, 3,\n",
              "       2, 3, 2, 3, 2, 3, 2, 3, 2, 3, 2, 3, 2, 3, 2, 3, 2, 3, 2, 3, 2, 3,\n",
              "       2, 3, 2, 3, 2, 3, 2, 3, 2, 3, 2, 3, 2, 3, 2, 3, 2, 3, 2, 3, 2, 3],\n",
              "      dtype=int32)"
            ]
          },
          "metadata": {},
          "execution_count": 64
        }
      ]
    },
    {
      "cell_type": "code",
      "source": [
        "plt.scatter(x[y_kmeans==0,0],x[y_kmeans==0,1],s=100,c='green',label='Cluster 1')\n",
        "plt.scatter(x[y_kmeans==1,0],x[y_kmeans==1,1],s=100,c='cyan',label='Cluster 2')\n",
        "plt.scatter(x[y_kmeans==2,0],x[y_kmeans==2,1],s=100,c='pink',label='Cluster 3')\n",
        "plt.scatter(x[y_kmeans==3,0],x[y_kmeans==3,1],s=100,c='yellow',label='Cluster 4')\n",
        "plt.scatter(x[y_kmeans==4,0],x[y_kmeans==4,1],s=100,c='orange',label='Cluster 5')\n",
        "plt.scatter(kmeans.cluster_centers_[:, 0],kmeans.cluster_centers_[:, 1],s=300,c='black',label='Centroids')\n",
        "plt.title('Clusters of cutomers')\n",
        "plt.xlabel('Annual Income (k$)')\n",
        "plt.ylabel('Spending Score(1-100)')\n",
        "plt.show()"
      ],
      "metadata": {
        "colab": {
          "base_uri": "https://localhost:8080/",
          "height": 295
        },
        "id": "It0h-BXFIuF-",
        "outputId": "1d84ceda-3a33-41fb-8cf6-d9cabd42ba39"
      },
      "execution_count": 73,
      "outputs": [
        {
          "output_type": "display_data",
          "data": {
            "text/plain": [
              "<Figure size 432x288 with 1 Axes>"
            ],
            "image/png": "[encoded data removed]"
          },
          "metadata": {
            "needs_background": "light"
          }
        }
      ]
    }
  ]
}